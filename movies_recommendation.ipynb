{
 "cells": [
  {
   "cell_type": "markdown",
   "metadata": {},
   "source": [
    "### Importing the libraries"
   ]
  },
  {
   "cell_type": "code",
   "execution_count": 17,
   "metadata": {},
   "outputs": [],
   "source": [
    "import pandas as pd\n",
    "import numpy as np\n",
    "import google.generativeai as genai\n",
    "from dotenv import dotenv_values\n",
    "\n",
    "pd.set_option('display.max_colwidth', None)"
   ]
  },
  {
   "cell_type": "markdown",
   "metadata": {},
   "source": [
    "### Importing the movie dataset"
   ]
  },
  {
   "cell_type": "code",
   "execution_count": 18,
   "metadata": {},
   "outputs": [],
   "source": [
    "df = pd.read_csv('dataset/tmdb_5000_movies.csv')"
   ]
  },
  {
   "cell_type": "code",
   "execution_count": 19,
   "metadata": {},
   "outputs": [],
   "source": [
    "columns = ['title', 'overview']"
   ]
  },
  {
   "cell_type": "code",
   "execution_count": 20,
   "metadata": {},
   "outputs": [],
   "source": [
    "df = df[columns]"
   ]
  },
  {
   "cell_type": "code",
   "execution_count": 21,
   "metadata": {},
   "outputs": [
    {
     "data": {
      "text/html": [
       "<div>\n",
       "<style scoped>\n",
       "    .dataframe tbody tr th:only-of-type {\n",
       "        vertical-align: middle;\n",
       "    }\n",
       "\n",
       "    .dataframe tbody tr th {\n",
       "        vertical-align: top;\n",
       "    }\n",
       "\n",
       "    .dataframe thead th {\n",
       "        text-align: right;\n",
       "    }\n",
       "</style>\n",
       "<table border=\"1\" class=\"dataframe\">\n",
       "  <thead>\n",
       "    <tr style=\"text-align: right;\">\n",
       "      <th></th>\n",
       "      <th>title</th>\n",
       "      <th>overview</th>\n",
       "    </tr>\n",
       "  </thead>\n",
       "  <tbody>\n",
       "    <tr>\n",
       "      <th>0</th>\n",
       "      <td>Avatar</td>\n",
       "      <td>In the 22nd century, a paraplegic Marine is dispatched to the moon Pandora on a unique mission, but becomes torn between following orders and protecting an alien civilization.</td>\n",
       "    </tr>\n",
       "    <tr>\n",
       "      <th>1</th>\n",
       "      <td>Pirates of the Caribbean: At World's End</td>\n",
       "      <td>Captain Barbossa, long believed to be dead, has come back to life and is headed to the edge of the Earth with Will Turner and Elizabeth Swann. But nothing is quite as it seems.</td>\n",
       "    </tr>\n",
       "    <tr>\n",
       "      <th>2</th>\n",
       "      <td>Spectre</td>\n",
       "      <td>A cryptic message from Bond’s past sends him on a trail to uncover a sinister organization. While M battles political forces to keep the secret service alive, Bond peels back the layers of deceit to reveal the terrible truth behind SPECTRE.</td>\n",
       "    </tr>\n",
       "    <tr>\n",
       "      <th>3</th>\n",
       "      <td>The Dark Knight Rises</td>\n",
       "      <td>Following the death of District Attorney Harvey Dent, Batman assumes responsibility for Dent's crimes to protect the late attorney's reputation and is subsequently hunted by the Gotham City Police Department. Eight years later, Batman encounters the mysterious Selina Kyle and the villainous Bane, a new terrorist leader who overwhelms Gotham's finest. The Dark Knight resurfaces to protect a city that has branded him an enemy.</td>\n",
       "    </tr>\n",
       "    <tr>\n",
       "      <th>4</th>\n",
       "      <td>John Carter</td>\n",
       "      <td>John Carter is a war-weary, former military captain who's inexplicably transported to the mysterious and exotic planet of Barsoom (Mars) and reluctantly becomes embroiled in an epic conflict. It's a world on the brink of collapse, and Carter rediscovers his humanity when he realizes the survival of Barsoom and its people rests in his hands.</td>\n",
       "    </tr>\n",
       "  </tbody>\n",
       "</table>\n",
       "</div>"
      ],
      "text/plain": [
       "                                      title  \\\n",
       "0                                    Avatar   \n",
       "1  Pirates of the Caribbean: At World's End   \n",
       "2                                   Spectre   \n",
       "3                     The Dark Knight Rises   \n",
       "4                               John Carter   \n",
       "\n",
       "                                                                                                                                                                                                                                                                                                                                                                                                                                       overview  \n",
       "0                                                                                                                                                                                                                                                               In the 22nd century, a paraplegic Marine is dispatched to the moon Pandora on a unique mission, but becomes torn between following orders and protecting an alien civilization.  \n",
       "1                                                                                                                                                                                                                                                              Captain Barbossa, long believed to be dead, has come back to life and is headed to the edge of the Earth with Will Turner and Elizabeth Swann. But nothing is quite as it seems.  \n",
       "2                                                                                                                                                                                              A cryptic message from Bond’s past sends him on a trail to uncover a sinister organization. While M battles political forces to keep the secret service alive, Bond peels back the layers of deceit to reveal the terrible truth behind SPECTRE.  \n",
       "3  Following the death of District Attorney Harvey Dent, Batman assumes responsibility for Dent's crimes to protect the late attorney's reputation and is subsequently hunted by the Gotham City Police Department. Eight years later, Batman encounters the mysterious Selina Kyle and the villainous Bane, a new terrorist leader who overwhelms Gotham's finest. The Dark Knight resurfaces to protect a city that has branded him an enemy.  \n",
       "4                                                                                        John Carter is a war-weary, former military captain who's inexplicably transported to the mysterious and exotic planet of Barsoom (Mars) and reluctantly becomes embroiled in an epic conflict. It's a world on the brink of collapse, and Carter rediscovers his humanity when he realizes the survival of Barsoom and its people rests in his hands.  "
      ]
     },
     "execution_count": 21,
     "metadata": {},
     "output_type": "execute_result"
    }
   ],
   "source": [
    "df.head()"
   ]
  },
  {
   "cell_type": "code",
   "execution_count": 22,
   "metadata": {},
   "outputs": [
    {
     "data": {
      "text/plain": [
       "(4803, 2)"
      ]
     },
     "execution_count": 22,
     "metadata": {},
     "output_type": "execute_result"
    }
   ],
   "source": [
    "df.shape"
   ]
  },
  {
   "cell_type": "code",
   "execution_count": 23,
   "metadata": {},
   "outputs": [
    {
     "data": {
      "text/plain": [
       "title       0\n",
       "overview    3\n",
       "dtype: int64"
      ]
     },
     "execution_count": 23,
     "metadata": {},
     "output_type": "execute_result"
    }
   ],
   "source": [
    "df.isna().sum()"
   ]
  },
  {
   "cell_type": "code",
   "execution_count": 24,
   "metadata": {},
   "outputs": [],
   "source": [
    "df.dropna(inplace=True)"
   ]
  },
  {
   "cell_type": "code",
   "execution_count": 25,
   "metadata": {},
   "outputs": [],
   "source": [
    "df = df.sample(100)"
   ]
  },
  {
   "cell_type": "code",
   "execution_count": 26,
   "metadata": {},
   "outputs": [
    {
     "data": {
      "text/html": [
       "<div>\n",
       "<style scoped>\n",
       "    .dataframe tbody tr th:only-of-type {\n",
       "        vertical-align: middle;\n",
       "    }\n",
       "\n",
       "    .dataframe tbody tr th {\n",
       "        vertical-align: top;\n",
       "    }\n",
       "\n",
       "    .dataframe thead th {\n",
       "        text-align: right;\n",
       "    }\n",
       "</style>\n",
       "<table border=\"1\" class=\"dataframe\">\n",
       "  <thead>\n",
       "    <tr style=\"text-align: right;\">\n",
       "      <th></th>\n",
       "      <th>title</th>\n",
       "      <th>overview</th>\n",
       "    </tr>\n",
       "  </thead>\n",
       "  <tbody>\n",
       "    <tr>\n",
       "      <th>3110</th>\n",
       "      <td>Welcome to the Rileys</td>\n",
       "      <td>Years after their teenage daughter’s death, Lois and Doug Riley, an upstanding Indiana couple, are frozen by estranging grief. Doug escapes to New Orleans on a business trip. Compelled by urgencies he doesn’t understand, he insinuates himself into the life of an underage hooker, becoming her platonic guardian.</td>\n",
       "    </tr>\n",
       "    <tr>\n",
       "      <th>3560</th>\n",
       "      <td>Ouija</td>\n",
       "      <td>A group of friends must confront their most terrifying fears when they awaken the dark powers of an ancient spirit board.</td>\n",
       "    </tr>\n",
       "    <tr>\n",
       "      <th>1520</th>\n",
       "      <td>The Incredible Burt Wonderstone</td>\n",
       "      <td>After breaking up with his longtime stage partner, a famous but jaded Vegas magician fights for relevance when a new, \"hip\" street magician appears on the scene.</td>\n",
       "    </tr>\n",
       "    <tr>\n",
       "      <th>3874</th>\n",
       "      <td>The Opposite Sex</td>\n",
       "      <td>A Bet's A Bet tells the story of Vince, New England's most successful divorce attorney. To Vince, life is one big competition, and losing is unacceptable. This also applies in his dating life with his love 'em and leave 'em approach. Then Vince meets Jane, who is beautiful, successful and also extremely driven. Together they enter into a series of entertaining wagers with each other where the winner gets to decide the fate of the loser. After all, \"A Bet's a Bet!\"</td>\n",
       "    </tr>\n",
       "    <tr>\n",
       "      <th>2995</th>\n",
       "      <td>Mad Max Beyond Thunderdome</td>\n",
       "      <td>Mad Max becomes a pawn in a decadent oasis of a technological society, and when exiled, becomes the deliverer of a colony of children.</td>\n",
       "    </tr>\n",
       "    <tr>\n",
       "      <th>3556</th>\n",
       "      <td>10 Cloverfield Lane</td>\n",
       "      <td>After a car accident, Michelle awakens to find herself in a mysterious bunker with two men named Howard and Emmett. Howard offers her a pair of crutches to help her remain mobile with her leg injury sustained from the car crash and tells her to \"get good on those\" before leaving the bunker. She has been given the information that there has been an alien attack and the outside world is poisoned. However, Howard and Emmett's intentions soon become questionable and Michelle is faced with a question: Is it better in here or out there?</td>\n",
       "    </tr>\n",
       "    <tr>\n",
       "      <th>894</th>\n",
       "      <td>Bulletproof Monk</td>\n",
       "      <td>A mysterious and immortal Tibetan kung fu master, who has spent the last 60 years traveling around the world protecting the ancient Scroll of the Ultimate, mentors a selfish street kid in the ancient intricacies of kung fu.</td>\n",
       "    </tr>\n",
       "    <tr>\n",
       "      <th>65</th>\n",
       "      <td>The Dark Knight</td>\n",
       "      <td>Batman raises the stakes in his war on crime. With the help of Lt. Jim Gordon and District Attorney Harvey Dent, Batman sets out to dismantle the remaining criminal organizations that plague the streets. The partnership proves to be effective, but they soon find themselves prey to a reign of chaos unleashed by a rising criminal mastermind known to the terrified citizens of Gotham as the Joker.</td>\n",
       "    </tr>\n",
       "    <tr>\n",
       "      <th>105</th>\n",
       "      <td>Alice Through the Looking Glass</td>\n",
       "      <td>In the sequel to Tim Burton's \"Alice in Wonderland\", Alice Kingsleigh returns to Underland and faces a new adventure in saving the Mad Hatter.</td>\n",
       "    </tr>\n",
       "    <tr>\n",
       "      <th>1614</th>\n",
       "      <td>Take the Lead</td>\n",
       "      <td>A former professional dancer volunteers to teach dance in the New York public school system and, while his background first clashes with his students' tastes, together they create a completely new style of dance. Based on the story of ballroom dancer, Pierre Dulane.</td>\n",
       "    </tr>\n",
       "  </tbody>\n",
       "</table>\n",
       "</div>"
      ],
      "text/plain": [
       "                                title  \\\n",
       "3110            Welcome to the Rileys   \n",
       "3560                            Ouija   \n",
       "1520  The Incredible Burt Wonderstone   \n",
       "3874                 The Opposite Sex   \n",
       "2995       Mad Max Beyond Thunderdome   \n",
       "3556              10 Cloverfield Lane   \n",
       "894                  Bulletproof Monk   \n",
       "65                    The Dark Knight   \n",
       "105   Alice Through the Looking Glass   \n",
       "1614                    Take the Lead   \n",
       "\n",
       "                                                                                                                                                                                                                                                                                                                                                                                                                                                                                                                                                      overview  \n",
       "3110                                                                                                                                                                                                                                   Years after their teenage daughter’s death, Lois and Doug Riley, an upstanding Indiana couple, are frozen by estranging grief. Doug escapes to New Orleans on a business trip. Compelled by urgencies he doesn’t understand, he insinuates himself into the life of an underage hooker, becoming her platonic guardian.  \n",
       "3560                                                                                                                                                                                                                                                                                                                                                                                                                                 A group of friends must confront their most terrifying fears when they awaken the dark powers of an ancient spirit board.  \n",
       "1520                                                                                                                                                                                                                                                                                                                                                                                         After breaking up with his longtime stage partner, a famous but jaded Vegas magician fights for relevance when a new, \"hip\" street magician appears on the scene.  \n",
       "3874                                                                      A Bet's A Bet tells the story of Vince, New England's most successful divorce attorney. To Vince, life is one big competition, and losing is unacceptable. This also applies in his dating life with his love 'em and leave 'em approach. Then Vince meets Jane, who is beautiful, successful and also extremely driven. Together they enter into a series of entertaining wagers with each other where the winner gets to decide the fate of the loser. After all, \"A Bet's a Bet!\"  \n",
       "2995                                                                                                                                                                                                                                                                                                                                                                                                                    Mad Max becomes a pawn in a decadent oasis of a technological society, and when exiled, becomes the deliverer of a colony of children.  \n",
       "3556  After a car accident, Michelle awakens to find herself in a mysterious bunker with two men named Howard and Emmett. Howard offers her a pair of crutches to help her remain mobile with her leg injury sustained from the car crash and tells her to \"get good on those\" before leaving the bunker. She has been given the information that there has been an alien attack and the outside world is poisoned. However, Howard and Emmett's intentions soon become questionable and Michelle is faced with a question: Is it better in here or out there?  \n",
       "894                                                                                                                                                                                                                                                                                                                            A mysterious and immortal Tibetan kung fu master, who has spent the last 60 years traveling around the world protecting the ancient Scroll of the Ultimate, mentors a selfish street kid in the ancient intricacies of kung fu.  \n",
       "65                                                                                                                                                Batman raises the stakes in his war on crime. With the help of Lt. Jim Gordon and District Attorney Harvey Dent, Batman sets out to dismantle the remaining criminal organizations that plague the streets. The partnership proves to be effective, but they soon find themselves prey to a reign of chaos unleashed by a rising criminal mastermind known to the terrified citizens of Gotham as the Joker.  \n",
       "105                                                                                                                                                                                                                                                                                                                                                                                                             In the sequel to Tim Burton's \"Alice in Wonderland\", Alice Kingsleigh returns to Underland and faces a new adventure in saving the Mad Hatter.  \n",
       "1614                                                                                                                                                                                                                                                                                A former professional dancer volunteers to teach dance in the New York public school system and, while his background first clashes with his students' tastes, together they create a completely new style of dance. Based on the story of ballroom dancer, Pierre Dulane.  "
      ]
     },
     "execution_count": 26,
     "metadata": {},
     "output_type": "execute_result"
    }
   ],
   "source": [
    "df.sample(10)"
   ]
  },
  {
   "cell_type": "markdown",
   "metadata": {},
   "source": [
    "### Embedding the dataframe"
   ]
  },
  {
   "cell_type": "code",
   "execution_count": 27,
   "metadata": {},
   "outputs": [],
   "source": [
    "ENV = dotenv_values(\".env\")\n",
    "api_key = ENV['API_KEY']\n",
    "genai.configure(api_key=api_key)"
   ]
  },
  {
   "cell_type": "code",
   "execution_count": 28,
   "metadata": {},
   "outputs": [],
   "source": [
    "def embed_content(title, text, model, task_type):\n",
    "    if text is None:\n",
    "        return genai.embed_content(\n",
    "            model=model,\n",
    "            content=text,\n",
    "            task_type=task_type,\n",
    "        )[\"embedding\"]\n",
    "    else:\n",
    "        return genai.embed_content(\n",
    "            model=model,\n",
    "            title=title,\n",
    "            content=text,\n",
    "            task_type=task_type,\n",
    "        )[\"embedding\"]"
   ]
  },
  {
   "cell_type": "code",
   "execution_count": 29,
   "metadata": {},
   "outputs": [],
   "source": [
    "embedding_model = \"models/embedding-001\"\n",
    "df[\"Embeddings\"] = df.apply(\n",
    "    lambda x: embed_content(\n",
    "        x[\"title\"],\n",
    "        x[\"overview\"],\n",
    "        embedding_model,\n",
    "        \"RETRIEVAL_DOCUMENT\",\n",
    "    ),\n",
    "    axis=1,\n",
    ")"
   ]
  },
  {
   "cell_type": "code",
   "execution_count": 30,
   "metadata": {},
   "outputs": [],
   "source": [
    "def get_suggestion(query, df, model):\n",
    "    query_embedding = embed_content(\n",
    "        None,\n",
    "        query,\n",
    "        model,\n",
    "        \"RETRIEVAL_QUERY\",\n",
    "    )\n",
    "\n",
    "    scalars = np.dot(np.stack(df[\"Embeddings\"]), query_embedding)\n",
    "    index = np.argmax(scalars)\n",
    "    return df.iloc[index][[\"title\", \"overview\"]]"
   ]
  },
  {
   "cell_type": "code",
   "execution_count": 41,
   "metadata": {},
   "outputs": [
    {
     "name": "stdout",
     "output_type": "stream",
     "text": [
      "Title: 8 Mile\n",
      "Description: The setting is Detroit in 1995. The city is divided by 8 Mile, a road that splits the town in half along racial lines. A young white rapper, Jimmy \"B-Rabbit\" Smith Jr. summons strength within himself to cross over these arbitrary boundaries to fulfill his dream of success in hip hop. With his pal Future and the three one third in place, all he has to do is not choke.\n"
     ]
    }
   ],
   "source": [
    "query = \"I like movies about rapper\"\n",
    "suggestion = get_suggestion(query, df, embedding_model)\n",
    "print(f\"Title: {suggestion.title}\")\n",
    "print(f\"Description: {suggestion.overview}\")"
   ]
  },
  {
   "cell_type": "code",
   "execution_count": 37,
   "metadata": {},
   "outputs": [],
   "source": [
    "generation_config = {\n",
    "  \"temperature\": 0.5,\n",
    "  \"candidate_count\": 1,\n",
    "}"
   ]
  },
  {
   "cell_type": "code",
   "execution_count": 49,
   "metadata": {},
   "outputs": [],
   "source": [
    "safety_settings = {\n",
    "    'HARASSMENT': 'BLOCK_MEDIUM_AND_ABOVE',\n",
    "    'HATE': 'BLOCK_MEDIUM_AND_ABOVE',\n",
    "    'SEXUAL': 'BLOCK_MEDIUM_AND_ABOVE',\n",
    "    'DANGEROUS': 'BLOCK_MEDIUM_AND_ABOVE',\n",
    "}"
   ]
  },
  {
   "cell_type": "code",
   "execution_count": 43,
   "metadata": {},
   "outputs": [],
   "source": [
    "prompt = f\"Com base na [QUERY] sobre características/atributos de filmes: {query}. Elabore um breve resumo do filme: {suggestion.title}, considerando as características citadas na [QUERY]. Seja simpático e divertido, e busco me convencer a assistir a esse filme\""
   ]
  },
  {
   "cell_type": "code",
   "execution_count": 50,
   "metadata": {},
   "outputs": [],
   "source": [
    "model = genai.GenerativeModel(\n",
    "    model_name='gemini-1.0-pro',\n",
    "    generation_config=generation_config,\n",
    "    safety_settings=safety_settings\n",
    ")"
   ]
  },
  {
   "cell_type": "code",
   "execution_count": 51,
   "metadata": {},
   "outputs": [],
   "source": [
    "response = model.generate_content(prompt)"
   ]
  },
  {
   "cell_type": "code",
   "execution_count": 52,
   "metadata": {},
   "outputs": [
    {
     "name": "stdout",
     "output_type": "stream",
     "text": [
      "Prepare-se para uma jornada eletrizante em 8 Mile, onde o mundo do rap e a luta pessoal colidem!\n",
      "\n",
      "Siga a história de Jimmy \"B-Rabbit\" Smith Jr., um jovem branco que tenta conquistar o respeito no underground do rap de Detroit. Apesar dos obstáculos e do preconceito, B-Rabbit tem um dom inegável para as palavras e uma determinação inabalável.\n",
      "\n",
      "Testemunhe batalhas de rap épicas, onde B-Rabbit enfrenta rivais implacáveis e prova sua habilidade lírica. Sinta a emoção enquanto ele luta contra seus demônios internos e tenta encontrar seu lugar em um mundo que não parece recebê-lo.\n",
      "\n",
      "Com um elenco estelar liderado por Eminem, 8 Mile é um filme inspirador e comovente que irá cativá-lo do início ao fim. Então, prepare-se para rimar, batalhar e torcer por B-Rabbit enquanto ele busca seu sonho de se tornar um rapper respeitado em 8 Mile!\n"
     ]
    }
   ],
   "source": [
    "print(response.text)"
   ]
  }
 ],
 "metadata": {
  "kernelspec": {
   "display_name": ".venv",
   "language": "python",
   "name": "python3"
  },
  "language_info": {
   "codemirror_mode": {
    "name": "ipython",
    "version": 3
   },
   "file_extension": ".py",
   "mimetype": "text/x-python",
   "name": "python",
   "nbconvert_exporter": "python",
   "pygments_lexer": "ipython3",
   "version": "3.12.2"
  }
 },
 "nbformat": 4,
 "nbformat_minor": 2
}
