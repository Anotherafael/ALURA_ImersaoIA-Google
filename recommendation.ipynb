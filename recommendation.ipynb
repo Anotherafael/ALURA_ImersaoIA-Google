{
 "cells": [
  {
   "cell_type": "markdown",
   "metadata": {},
   "source": [
    "### Importing the libraries and Configuring the API Key"
   ]
  },
  {
   "cell_type": "code",
   "execution_count": 1,
   "metadata": {},
   "outputs": [],
   "source": [
    "import pandas as pd\n",
    "import numpy as np\n",
    "import google.generativeai as genai\n",
    "from dotenv import dotenv_values"
   ]
  },
  {
   "cell_type": "code",
   "execution_count": 2,
   "metadata": {},
   "outputs": [],
   "source": [
    "df = pd.read_csv('dataset/tmdb_5000_movies_embed.csv')"
   ]
  },
  {
   "cell_type": "code",
   "execution_count": 3,
   "metadata": {},
   "outputs": [
    {
     "data": {
      "text/html": [
       "<div>\n",
       "<style scoped>\n",
       "    .dataframe tbody tr th:only-of-type {\n",
       "        vertical-align: middle;\n",
       "    }\n",
       "\n",
       "    .dataframe tbody tr th {\n",
       "        vertical-align: top;\n",
       "    }\n",
       "\n",
       "    .dataframe thead th {\n",
       "        text-align: right;\n",
       "    }\n",
       "</style>\n",
       "<table border=\"1\" class=\"dataframe\">\n",
       "  <thead>\n",
       "    <tr style=\"text-align: right;\">\n",
       "      <th></th>\n",
       "      <th>title</th>\n",
       "      <th>overview</th>\n",
       "      <th>Embeddings</th>\n",
       "    </tr>\n",
       "  </thead>\n",
       "  <tbody>\n",
       "    <tr>\n",
       "      <th>0</th>\n",
       "      <td>Avatar</td>\n",
       "      <td>In the 22nd century, a paraplegic Marine is di...</td>\n",
       "      <td>[0.031759717, 0.0044186483, -0.025144888, -0.0...</td>\n",
       "    </tr>\n",
       "    <tr>\n",
       "      <th>1</th>\n",
       "      <td>Pirates of the Caribbean: At World's End</td>\n",
       "      <td>Captain Barbossa, long believed to be dead, ha...</td>\n",
       "      <td>[0.06617279, 0.008563878, -0.04165544, -0.0447...</td>\n",
       "    </tr>\n",
       "    <tr>\n",
       "      <th>2</th>\n",
       "      <td>Spectre</td>\n",
       "      <td>A cryptic message from Bond’s past sends him o...</td>\n",
       "      <td>[-0.012871856, -0.005491358, 0.012047383, -0.0...</td>\n",
       "    </tr>\n",
       "    <tr>\n",
       "      <th>3</th>\n",
       "      <td>The Dark Knight Rises</td>\n",
       "      <td>Following the death of District Attorney Harve...</td>\n",
       "      <td>[0.04840929, 0.03056959, -0.030966783, -0.0182...</td>\n",
       "    </tr>\n",
       "    <tr>\n",
       "      <th>4</th>\n",
       "      <td>John Carter</td>\n",
       "      <td>John Carter is a war-weary, former military ca...</td>\n",
       "      <td>[0.061523866, -0.032111533, -0.035515673, 0.00...</td>\n",
       "    </tr>\n",
       "  </tbody>\n",
       "</table>\n",
       "</div>"
      ],
      "text/plain": [
       "                                      title  \\\n",
       "0                                    Avatar   \n",
       "1  Pirates of the Caribbean: At World's End   \n",
       "2                                   Spectre   \n",
       "3                     The Dark Knight Rises   \n",
       "4                               John Carter   \n",
       "\n",
       "                                            overview  \\\n",
       "0  In the 22nd century, a paraplegic Marine is di...   \n",
       "1  Captain Barbossa, long believed to be dead, ha...   \n",
       "2  A cryptic message from Bond’s past sends him o...   \n",
       "3  Following the death of District Attorney Harve...   \n",
       "4  John Carter is a war-weary, former military ca...   \n",
       "\n",
       "                                          Embeddings  \n",
       "0  [0.031759717, 0.0044186483, -0.025144888, -0.0...  \n",
       "1  [0.06617279, 0.008563878, -0.04165544, -0.0447...  \n",
       "2  [-0.012871856, -0.005491358, 0.012047383, -0.0...  \n",
       "3  [0.04840929, 0.03056959, -0.030966783, -0.0182...  \n",
       "4  [0.061523866, -0.032111533, -0.035515673, 0.00...  "
      ]
     },
     "execution_count": 3,
     "metadata": {},
     "output_type": "execute_result"
    }
   ],
   "source": [
    "df.head(5)"
   ]
  },
  {
   "cell_type": "code",
   "execution_count": 4,
   "metadata": {},
   "outputs": [],
   "source": [
    "df['Embeddings'] = df['Embeddings'].apply(lambda x: eval(x))"
   ]
  },
  {
   "cell_type": "code",
   "execution_count": 5,
   "metadata": {},
   "outputs": [
    {
     "name": "stdout",
     "output_type": "stream",
     "text": [
      "<class 'list'>\n"
     ]
    }
   ],
   "source": [
    "print(type(df['Embeddings'][0]))"
   ]
  },
  {
   "cell_type": "code",
   "execution_count": 6,
   "metadata": {},
   "outputs": [],
   "source": [
    "ENV = dotenv_values(\".env\")\n",
    "api_key = ENV['API_KEY']\n",
    "genai.configure(api_key=api_key)"
   ]
  },
  {
   "cell_type": "markdown",
   "metadata": {},
   "source": [
    "### Creating the Embedding function to the query"
   ]
  },
  {
   "cell_type": "code",
   "execution_count": 7,
   "metadata": {},
   "outputs": [],
   "source": [
    "embedding_model = \"models/embedding-001\""
   ]
  },
  {
   "cell_type": "code",
   "execution_count": 8,
   "metadata": {},
   "outputs": [],
   "source": [
    "def embed_content(title, query, model, task_type):\n",
    "    if query is None:\n",
    "        return genai.embed_content(\n",
    "            model=model,\n",
    "            content=query,\n",
    "            task_type=task_type,\n",
    "        )[\"embedding\"]\n",
    "    else:\n",
    "        return genai.embed_content(\n",
    "            model=model,\n",
    "            title=title,\n",
    "            content=query,\n",
    "            task_type=task_type,\n",
    "        )[\"embedding\"]"
   ]
  },
  {
   "cell_type": "code",
   "execution_count": 9,
   "metadata": {},
   "outputs": [],
   "source": [
    "def get_suggestion(query, df, model):\n",
    "    query_embedding = embed_content(\n",
    "        None,\n",
    "        query,\n",
    "        model,\n",
    "        \"RETRIEVAL_QUERY\",\n",
    "    )\n",
    "    \n",
    "    # df['Embeddings'] = df['Embeddings'].apply(lambda x: np.array(x))\n",
    "    scalars = np.dot(np.stack(df[\"Embeddings\"]), query_embedding, out=None)\n",
    "    index = np.argmax(scalars)\n",
    "    return df.iloc[index][[\"title\", \"overview\"]]"
   ]
  },
  {
   "cell_type": "markdown",
   "metadata": {},
   "source": [
    "### Query of the user"
   ]
  },
  {
   "cell_type": "code",
   "execution_count": 10,
   "metadata": {},
   "outputs": [
    {
     "name": "stdout",
     "output_type": "stream",
     "text": [
      "Title: 8 Mile\n",
      "Description: The setting is Detroit in 1995. The city is divided by 8 Mile, a road that splits the town in half along racial lines. A young white rapper, Jimmy \"B-Rabbit\" Smith Jr. summons strength within himself to cross over these arbitrary boundaries to fulfill his dream of success in hip hop. With his pal Future and the three one third in place, all he has to do is not choke.\n"
     ]
    }
   ],
   "source": [
    "query = \"A movie about white rapper\"\n",
    "suggestion = get_suggestion(query, df, embedding_model)\n",
    "print(f\"Title: {suggestion.title}\")\n",
    "print(f\"Description: {suggestion.overview}\")"
   ]
  },
  {
   "cell_type": "markdown",
   "metadata": {},
   "source": [
    "### Configuring the response from Gemini"
   ]
  },
  {
   "cell_type": "code",
   "execution_count": 11,
   "metadata": {},
   "outputs": [],
   "source": [
    "generation_config = {\n",
    "  \"temperature\": 0.5,\n",
    "  \"candidate_count\": 1,\n",
    "}"
   ]
  },
  {
   "cell_type": "code",
   "execution_count": 12,
   "metadata": {},
   "outputs": [],
   "source": [
    "safety_settings = {\n",
    "    'HARASSMENT': 'BLOCK_MEDIUM_AND_ABOVE',\n",
    "    'HATE': 'BLOCK_MEDIUM_AND_ABOVE',\n",
    "    'SEXUAL': 'BLOCK_MEDIUM_AND_ABOVE',\n",
    "    'DANGEROUS': 'BLOCK_MEDIUM_AND_ABOVE',\n",
    "}"
   ]
  },
  {
   "cell_type": "code",
   "execution_count": 13,
   "metadata": {},
   "outputs": [],
   "source": [
    "prompt = f\"Com base na [QUERY] sobre características/atributos de filmes: {query}. Elabore um breve resumo do filme: {suggestion.title}, considerando as características citadas na [QUERY]. Seja simpático e divertido, e busco me convencer a assistir a esse filme\""
   ]
  },
  {
   "cell_type": "code",
   "execution_count": 14,
   "metadata": {},
   "outputs": [],
   "source": [
    "model = genai.GenerativeModel(\n",
    "    model_name='gemini-1.0-pro',\n",
    "    generation_config=generation_config, \n",
    "    safety_settings=safety_settings\n",
    ")"
   ]
  },
  {
   "cell_type": "code",
   "execution_count": 15,
   "metadata": {},
   "outputs": [],
   "source": [
    "response = model.generate_content(prompt)"
   ]
  },
  {
   "cell_type": "markdown",
   "metadata": {},
   "source": [
    "### Response"
   ]
  },
  {
   "cell_type": "code",
   "execution_count": 16,
   "metadata": {},
   "outputs": [
    {
     "name": "stdout",
     "output_type": "stream",
     "text": [
      "Prepare-se para uma viagem eletrizante ao mundo do rap em 8 Mile! Este filme icônico apresenta Eminem como Jimmy \"B-Rabbit\" Smith Jr., um aspirante a rapper branco que enfrenta desafios implacáveis em sua jornada para conquistar o respeito no cenário do hip-hop.\n",
      "\n",
      "Com rimas afiadas como navalhas e batidas arrepiantes, 8 Mile captura a essência da cultura do rap e o poder transformador da música. Testemunhe as lutas pessoais de Jimmy, sua determinação inabalável e sua busca por autenticidade em um mundo que muitas vezes o julga por sua cor de pele.\n",
      "\n",
      "Prepare-se para ser levado por uma história emocionante de superação, perseverança e o poder da autoexpressão. 8 Mile é um filme que vai te fazer bater a cabeça, te inspirar e te lembrar que mesmo as vozes mais improváveis podem fazer barulho.\n"
     ]
    }
   ],
   "source": [
    "print(response.text)"
   ]
  }
 ],
 "metadata": {
  "kernelspec": {
   "display_name": ".venv",
   "language": "python",
   "name": "python3"
  },
  "language_info": {
   "codemirror_mode": {
    "name": "ipython",
    "version": 3
   },
   "file_extension": ".py",
   "mimetype": "text/x-python",
   "name": "python",
   "nbconvert_exporter": "python",
   "pygments_lexer": "ipython3",
   "version": "3.12.2"
  }
 },
 "nbformat": 4,
 "nbformat_minor": 2
}
