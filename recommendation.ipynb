{
 "cells": [
  {
   "cell_type": "markdown",
   "metadata": {},
   "source": [
    "### Importing the libraries and Configuring the API Key"
   ]
  },
  {
   "cell_type": "code",
   "execution_count": 1,
   "metadata": {},
   "outputs": [],
   "source": [
    "import pandas as pd\n",
    "import numpy as np\n",
    "import google.generativeai as genai\n",
    "from dotenv import dotenv_values"
   ]
  },
  {
   "cell_type": "code",
   "execution_count": 2,
   "metadata": {},
   "outputs": [],
   "source": [
    "df = pd.read_csv('dataset/tmdb_5000_movies_embed.csv')"
   ]
  },
  {
   "cell_type": "code",
   "execution_count": 3,
   "metadata": {},
   "outputs": [
    {
     "data": {
      "text/html": [
       "<div>\n",
       "<style scoped>\n",
       "    .dataframe tbody tr th:only-of-type {\n",
       "        vertical-align: middle;\n",
       "    }\n",
       "\n",
       "    .dataframe tbody tr th {\n",
       "        vertical-align: top;\n",
       "    }\n",
       "\n",
       "    .dataframe thead th {\n",
       "        text-align: right;\n",
       "    }\n",
       "</style>\n",
       "<table border=\"1\" class=\"dataframe\">\n",
       "  <thead>\n",
       "    <tr style=\"text-align: right;\">\n",
       "      <th></th>\n",
       "      <th>title</th>\n",
       "      <th>overview</th>\n",
       "      <th>Embeddings</th>\n",
       "    </tr>\n",
       "  </thead>\n",
       "  <tbody>\n",
       "    <tr>\n",
       "      <th>0</th>\n",
       "      <td>Avatar</td>\n",
       "      <td>In the 22nd century, a paraplegic Marine is di...</td>\n",
       "      <td>[0.031759717, 0.0044186483, -0.025144888, -0.0...</td>\n",
       "    </tr>\n",
       "    <tr>\n",
       "      <th>1</th>\n",
       "      <td>Pirates of the Caribbean: At World's End</td>\n",
       "      <td>Captain Barbossa, long believed to be dead, ha...</td>\n",
       "      <td>[0.06617279, 0.008563878, -0.04165544, -0.0447...</td>\n",
       "    </tr>\n",
       "    <tr>\n",
       "      <th>2</th>\n",
       "      <td>Spectre</td>\n",
       "      <td>A cryptic message from Bond’s past sends him o...</td>\n",
       "      <td>[-0.012871856, -0.005491358, 0.012047383, -0.0...</td>\n",
       "    </tr>\n",
       "    <tr>\n",
       "      <th>3</th>\n",
       "      <td>The Dark Knight Rises</td>\n",
       "      <td>Following the death of District Attorney Harve...</td>\n",
       "      <td>[0.04840929, 0.03056959, -0.030966783, -0.0182...</td>\n",
       "    </tr>\n",
       "    <tr>\n",
       "      <th>4</th>\n",
       "      <td>John Carter</td>\n",
       "      <td>John Carter is a war-weary, former military ca...</td>\n",
       "      <td>[0.061523866, -0.032111533, -0.035515673, 0.00...</td>\n",
       "    </tr>\n",
       "  </tbody>\n",
       "</table>\n",
       "</div>"
      ],
      "text/plain": [
       "                                      title  \\\n",
       "0                                    Avatar   \n",
       "1  Pirates of the Caribbean: At World's End   \n",
       "2                                   Spectre   \n",
       "3                     The Dark Knight Rises   \n",
       "4                               John Carter   \n",
       "\n",
       "                                            overview  \\\n",
       "0  In the 22nd century, a paraplegic Marine is di...   \n",
       "1  Captain Barbossa, long believed to be dead, ha...   \n",
       "2  A cryptic message from Bond’s past sends him o...   \n",
       "3  Following the death of District Attorney Harve...   \n",
       "4  John Carter is a war-weary, former military ca...   \n",
       "\n",
       "                                          Embeddings  \n",
       "0  [0.031759717, 0.0044186483, -0.025144888, -0.0...  \n",
       "1  [0.06617279, 0.008563878, -0.04165544, -0.0447...  \n",
       "2  [-0.012871856, -0.005491358, 0.012047383, -0.0...  \n",
       "3  [0.04840929, 0.03056959, -0.030966783, -0.0182...  \n",
       "4  [0.061523866, -0.032111533, -0.035515673, 0.00...  "
      ]
     },
     "execution_count": 3,
     "metadata": {},
     "output_type": "execute_result"
    }
   ],
   "source": [
    "df.head(5)"
   ]
  },
  {
   "cell_type": "code",
   "execution_count": 4,
   "metadata": {},
   "outputs": [],
   "source": [
    "df['Embeddings'] = df['Embeddings'].apply(lambda x: eval(x))"
   ]
  },
  {
   "cell_type": "code",
   "execution_count": 5,
   "metadata": {},
   "outputs": [
    {
     "name": "stdout",
     "output_type": "stream",
     "text": [
      "<class 'list'>\n"
     ]
    }
   ],
   "source": [
    "print(type(df['Embeddings'][0]))"
   ]
  },
  {
   "cell_type": "code",
   "execution_count": 6,
   "metadata": {},
   "outputs": [],
   "source": [
    "ENV = dotenv_values(\".env\")\n",
    "api_key = ENV['API_KEY']\n",
    "genai.configure(api_key=api_key)"
   ]
  },
  {
   "cell_type": "markdown",
   "metadata": {},
   "source": [
    "### Creating the Embedding function to the query"
   ]
  },
  {
   "cell_type": "code",
   "execution_count": 7,
   "metadata": {},
   "outputs": [],
   "source": [
    "embedding_model = \"models/embedding-001\""
   ]
  },
  {
   "cell_type": "code",
   "execution_count": 8,
   "metadata": {},
   "outputs": [],
   "source": [
    "def embed_content(title, query, model, task_type):\n",
    "    if query is None:\n",
    "        return genai.embed_content(\n",
    "            model=model,\n",
    "            content=query,\n",
    "            task_type=task_type,\n",
    "        )[\"embedding\"]\n",
    "    else:\n",
    "        return genai.embed_content(\n",
    "            model=model,\n",
    "            title=title,\n",
    "            content=query,\n",
    "            task_type=task_type,\n",
    "        )[\"embedding\"]"
   ]
  },
  {
   "cell_type": "code",
   "execution_count": 9,
   "metadata": {},
   "outputs": [],
   "source": [
    "def get_suggestion(query, df, model):\n",
    "    query_embedding = embed_content(\n",
    "        None,\n",
    "        query,\n",
    "        model,\n",
    "        \"RETRIEVAL_QUERY\",\n",
    "    )\n",
    "    \n",
    "    # df['Embeddings'] = df['Embeddings'].apply(lambda x: np.array(x))\n",
    "    scalars = np.dot(np.stack(df[\"Embeddings\"]), query_embedding, out=None)\n",
    "    index = np.argmax(scalars)\n",
    "    return df.iloc[index][[\"title\", \"overview\"]]"
   ]
  },
  {
   "cell_type": "markdown",
   "metadata": {},
   "source": [
    "### Query of the user"
   ]
  },
  {
   "cell_type": "code",
   "execution_count": 10,
   "metadata": {},
   "outputs": [
    {
     "name": "stdout",
     "output_type": "stream",
     "text": [
      "Title: 8 Mile\n",
      "Description: The setting is Detroit in 1995. The city is divided by 8 Mile, a road that splits the town in half along racial lines. A young white rapper, Jimmy \"B-Rabbit\" Smith Jr. summons strength within himself to cross over these arbitrary boundaries to fulfill his dream of success in hip hop. With his pal Future and the three one third in place, all he has to do is not choke.\n"
     ]
    }
   ],
   "source": [
    "query = \"A movie about white rapper\"\n",
    "suggestion = get_suggestion(query, df, embedding_model)\n",
    "print(f\"Title: {suggestion.title}\")\n",
    "print(f\"Description: {suggestion.overview}\")"
   ]
  },
  {
   "cell_type": "markdown",
   "metadata": {},
   "source": [
    "### Configuring the response from Gemini"
   ]
  },
  {
   "cell_type": "code",
   "execution_count": 16,
   "metadata": {},
   "outputs": [],
   "source": [
    "generation_config = {\n",
    "  \"temperature\": 0.5,\n",
    "  \"top_k\": 50,\n",
    "  \"top_p\": 0.95,\n",
    "  \"candidate_count\": 1,\n",
    "}"
   ]
  },
  {
   "cell_type": "code",
   "execution_count": 12,
   "metadata": {},
   "outputs": [],
   "source": [
    "safety_settings = {\n",
    "    'HARASSMENT': 'BLOCK_NONE',\n",
    "    'HATE': 'BLOCK_NONE',\n",
    "    'SEXUAL': 'BLOCK_NONE',\n",
    "    'DANGEROUS': 'BLOCK_NONE',\n",
    "}"
   ]
  },
  {
   "cell_type": "code",
   "execution_count": 13,
   "metadata": {},
   "outputs": [],
   "source": [
    "prompt = f\"Com base na [QUERY] sobre características/atributos de filmes: {query}. Elabore um breve resumo de um parágrafo para o filme: {suggestion.title}, considerando as características citadas na [QUERY]. Seja simpático e divertido, e busco me convencer a assistir a esse filme\""
   ]
  },
  {
   "cell_type": "code",
   "execution_count": 17,
   "metadata": {},
   "outputs": [],
   "source": [
    "model = genai.GenerativeModel(\n",
    "    model_name='gemini-1.0-pro',\n",
    "    generation_config=generation_config, \n",
    "    safety_settings=safety_settings\n",
    ")"
   ]
  },
  {
   "cell_type": "code",
   "execution_count": 18,
   "metadata": {},
   "outputs": [],
   "source": [
    "response = model.generate_content(prompt)"
   ]
  },
  {
   "cell_type": "markdown",
   "metadata": {},
   "source": [
    "### Response"
   ]
  },
  {
   "cell_type": "code",
   "execution_count": 20,
   "metadata": {},
   "outputs": [
    {
     "name": "stdout",
     "output_type": "stream",
     "text": [
      "Prepare-se para um passeio eletrizante pelas ruas de Detroit em \"8 Mile\", um filme que gira em torno do aspirante a rapper branco Jimmy \"B-Rabbit\" Smith Jr. Lutando contra a pobreza e o preconceito, B-Rabbit encontra refúgio na música, usando sua voz para expressar suas lutas e sonhos. Com rimas afiadas e um coração de ouro, ele enfrenta batalhas de rap intensas, provando que a cor da pele não pode definir seu talento. Testemunhe a jornada inspiradora de B-Rabbit enquanto ele supera obstáculos, encontra seu lugar no mundo do hip-hop e deixa sua marca na indústria da música.\n"
     ]
    }
   ],
   "source": [
    "print(response.text)"
   ]
  },
  {
   "cell_type": "markdown",
   "metadata": {},
   "source": [
    "### Chatbot"
   ]
  },
  {
   "cell_type": "code",
   "execution_count": 21,
   "metadata": {},
   "outputs": [],
   "source": [
    "import textwrap\n",
    "from IPython.display import display, Markdown\n",
    "\n",
    "def to_markdown(text):\n",
    "  text = text.replace('•', '  *')\n",
    "  return Markdown(textwrap.indent(text, '> ', predicate=lambda _: True))"
   ]
  },
  {
   "cell_type": "code",
   "execution_count": 22,
   "metadata": {},
   "outputs": [
    {
     "data": {
      "text/markdown": [
       "> Usuário: A movie about a rapper"
      ],
      "text/plain": [
       "<IPython.core.display.Markdown object>"
      ]
     },
     "metadata": {},
     "output_type": "display_data"
    },
    {
     "data": {
      "text/markdown": [
       "> BOT: Filme: Get Rich or Die Tryin'"
      ],
      "text/plain": [
       "<IPython.core.display.Markdown object>"
      ]
     },
     "metadata": {},
     "output_type": "display_data"
    },
    {
     "data": {
      "text/markdown": [
       "> BOT: Prepare-se para uma jornada musical eletrizante com \"Get Rich or Die Tryin'\"! Siga a história de Marcus, um talentoso rapper que luta para sobreviver nas ruas de Nova York. Com rimas afiadas e batidas pulsantes, ele sonha em escapar da pobreza e alcançar o estrelato.\n",
       "> \n",
       "> Mas o caminho para o sucesso é repleto de obstáculos. Marcus enfrenta gangues rivais, traições e um passado sombrio que o assombra. No entanto, sua determinação e paixão pela música o mantêm motivado.\n",
       "> \n",
       "> Com um elenco estelar, incluindo 50 Cent no papel principal, \"Get Rich or Die Tryin'\" é uma história inspiradora sobre a busca implacável dos sonhos, o poder da música e a resiliência do espírito humano. Prepare-se para ser cativado por essa jornada musical emocionante e motivadora!"
      ],
      "text/plain": [
       "<IPython.core.display.Markdown object>"
      ]
     },
     "metadata": {},
     "output_type": "display_data"
    },
    {
     "data": {
      "text/markdown": [
       "> Usuário: A movie about a white rapper"
      ],
      "text/plain": [
       "<IPython.core.display.Markdown object>"
      ]
     },
     "metadata": {},
     "output_type": "display_data"
    },
    {
     "data": {
      "text/markdown": [
       "> BOT: Filme: 8 Mile"
      ],
      "text/plain": [
       "<IPython.core.display.Markdown object>"
      ]
     },
     "metadata": {},
     "output_type": "display_data"
    },
    {
     "data": {
      "text/markdown": [
       "> BOT: Prepare-se para uma viagem musical explosiva em \"8 Mile\", um filme que vai te fazer vibrar ao ritmo do hip-hop!\n",
       "> \n",
       "> Siga a jornada de Jimmy \"B-Rabbit\" Smith Jr., um rapper branco de Detroit que luta para encontrar seu lugar no competitivo mundo do rap. Apesar das adversidades, Jimmy é impulsionado por sua paixão e determinação para provar que pode rimar com os melhores.\n",
       "> \n",
       "> Testemunhe batalhas de rap épicas, versos cortantes e a busca implacável de Jimmy por reconhecimento. Com um elenco talentoso, incluindo Eminem, Kim Basinger e Mekhi Phifer, \"8 Mile\" é um filme que vai te fazer torcer, rir e se inspirar.\n",
       "> \n",
       "> Então, prepare seu microfone e junte-se a Jimmy em sua jornada para se tornar uma lenda do rap. \"8 Mile\" é um filme que vai te deixar com vontade de rimar e conquistar seus próprios sonhos!"
      ],
      "text/plain": [
       "<IPython.core.display.Markdown object>"
      ]
     },
     "metadata": {},
     "output_type": "display_data"
    },
    {
     "data": {
      "text/markdown": [
       "> Usuário: A movie about a superhero saving the world"
      ],
      "text/plain": [
       "<IPython.core.display.Markdown object>"
      ]
     },
     "metadata": {},
     "output_type": "display_data"
    },
    {
     "data": {
      "text/markdown": [
       "> BOT: Filme: Super"
      ],
      "text/plain": [
       "<IPython.core.display.Markdown object>"
      ]
     },
     "metadata": {},
     "output_type": "display_data"
    },
    {
     "data": {
      "text/markdown": [
       "> BOT: Prepare-se para uma aventura épica com \"Super\", um filme que redefine o conceito de super-herói!\n",
       "> \n",
       "> Imagine um homem comum chamado Frank, que decide se tornar o \"Crimson Bolt\" para proteger sua cidade do mal. Com um traje caseiro e uma determinação inabalável, Frank embarca em uma missão para salvar o mundo de um vilão excêntrico e perigoso.\n",
       "> \n",
       "> Ao longo do caminho, Frank encontra uma aliada improvável em Libby, uma aspirante a super-heroína que compartilha sua paixão por justiça. Juntos, eles enfrentam perigos, desvendam segredos e provam que até mesmo os heróis mais improváveis podem fazer a diferença.\n",
       "> \n",
       "> \"Super\" é uma comédia de ação hilária e comovente que celebra o poder da imaginação e o espírito indomável do homem comum. Com personagens cativantes, ação emocionante e uma mensagem inspiradora, este filme certamente o deixará entretido e motivado."
      ],
      "text/plain": [
       "<IPython.core.display.Markdown object>"
      ]
     },
     "metadata": {},
     "output_type": "display_data"
    },
    {
     "data": {
      "text/markdown": [
       "> Usuário: A movie about a musician falling in love"
      ],
      "text/plain": [
       "<IPython.core.display.Markdown object>"
      ]
     },
     "metadata": {},
     "output_type": "display_data"
    },
    {
     "data": {
      "text/markdown": [
       "> BOT: Filme: Mutual Appreciation"
      ],
      "text/plain": [
       "<IPython.core.display.Markdown object>"
      ]
     },
     "metadata": {},
     "output_type": "display_data"
    },
    {
     "data": {
      "text/markdown": [
       "> BOT: Prepare-se para uma sinfonia de romance e música em \"Mutual Appreciation\"!\n",
       "> \n",
       "> Este filme é uma obra-prima sobre o poder transformador do amor e da arte. Acompanhe a jornada de um talentoso músico que se apaixona perdidamente por uma mulher que o inspira a criar sua música mais comovente.\n",
       "> \n",
       "> Entre notas musicais e olhares apaixonados, eles descobrem que o amor pode ser o ritmo que une seus corações. Mas o caminho para a harmonia não é sem seus desafios.\n",
       "> \n",
       "> Com personagens cativantes, uma trilha sonora inesquecível e uma história que vai aquecer seu coração, \"Mutual Appreciation\" é um filme que vai fazer você dançar de alegria e cantarolar de amor. Não perca essa obra-prima cinematográfica que prova que o amor e a música são os ingredientes perfeitos para uma sinfonia inesquecível."
      ],
      "text/plain": [
       "<IPython.core.display.Markdown object>"
      ]
     },
     "metadata": {},
     "output_type": "display_data"
    }
   ],
   "source": [
    "query = \"\"\n",
    "while query != \"exit\":\n",
    "    query = input(\"Write a query: \")\n",
    "    if query != \"exit\":\n",
    "        suggestion = get_suggestion(query, df, embedding_model)\n",
    "        ## apply the function markdown to title and description\n",
    "        display(to_markdown(f\"Usuário: {query}\"))\n",
    "        display(to_markdown(f\"BOT: Filme: {suggestion.title}\"))\n",
    "        prompt = f\"Com base na [QUERY] sobre características/atributos de filmes: {query}. Elabore um breve resumo de um parágrafo para o filme: {suggestion.title}, considerando as características citadas na [QUERY]. Seja simpático e divertido, e busco me convencer a assistir a esse filme\"\n",
    "        response = model.generate_content(prompt)\n",
    "        display(to_markdown(f'BOT: {response.text}'))"
   ]
  }
 ],
 "metadata": {
  "kernelspec": {
   "display_name": ".venv",
   "language": "python",
   "name": "python3"
  },
  "language_info": {
   "codemirror_mode": {
    "name": "ipython",
    "version": 3
   },
   "file_extension": ".py",
   "mimetype": "text/x-python",
   "name": "python",
   "nbconvert_exporter": "python",
   "pygments_lexer": "ipython3",
   "version": "3.12.2"
  }
 },
 "nbformat": 4,
 "nbformat_minor": 2
}
